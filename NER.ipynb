{
  "nbformat": 4,
  "nbformat_minor": 0,
  "metadata": {
    "colab": {
      "provenance": []
    },
    "kernelspec": {
      "name": "python3",
      "display_name": "Python 3"
    },
    "language_info": {
      "name": "python"
    }
  },
  "cells": [
    {
      "cell_type": "code",
      "execution_count": 3,
      "metadata": {
        "colab": {
          "base_uri": "https://localhost:8080/"
        },
        "id": "cZ-PEgT8PbnY",
        "outputId": "87741af8-48fd-42dc-97a5-7cd509a28620"
      },
      "outputs": [
        {
          "output_type": "stream",
          "name": "stdout",
          "text": [
            "Fetched Article: ‘Trap’ Review: A Wily Josh Hartnett Propels M. Night Shyamalan’s Moderately Entertaining Thriller - Hollywood Reporter In the director's latest film, a father and daughter attend a pop concert that becomes part of a ploy to catch a deadly serial killer.\n"
          ]
        }
      ],
      "source": [
        "  import requests\n",
        "\n",
        "  def fetch_news_article(api_key):\n",
        "      url = f'https://newsapi.org/v2/top-headlines?country=us&apiKey={api_key}'\n",
        "      response = requests.get(url)\n",
        "      data = response.json()\n",
        "      if data['status'] == 'ok' and data['articles']:\n",
        "          articles = data['articles']\n",
        "          for article in articles:\n",
        "              if article['title'] and article['description']:\n",
        "                  return article['title'] + \" \" + article['description']\n",
        "      return None\n",
        "\n",
        "  api_key = '3edbe7360bc54fdd92dfdc3d96e981a1'\n",
        "  article = fetch_news_article(api_key)\n",
        "  if article:\n",
        "      print(\"Fetched Article:\", article)\n",
        "  else:\n",
        "      print(\"Failed to fetch an article. Please check your API key and network connection.\")\n"
      ]
    },
    {
      "cell_type": "code",
      "source": [
        "import nltk\n",
        "from nltk import word_tokenize, pos_tag, ne_chunk\n",
        "\n",
        "# Download necessary NLTK resources\n",
        "nltk.download('punkt')\n",
        "nltk.download('maxent_ne_chunker')\n",
        "nltk.download('words')\n",
        "nltk.download('averaged_perceptron_tagger')  # Added this line\n",
        "\n",
        "def nltk_ner(text):\n",
        "    words = word_tokenize(text)\n",
        "    tags = pos_tag(words)\n",
        "    tree = ne_chunk(tags)\n",
        "    entities = []\n",
        "    for subtree in tree:\n",
        "        if isinstance(subtree, nltk.Tree):\n",
        "            entity = \" \".join([word for word, tag in subtree.leaves()])\n",
        "            entity_type = subtree.label()\n",
        "            entities.append((entity, entity_type))\n",
        "    return entities\n",
        "\n",
        "# Example article text\n",
        "article = \"Americans freed in Russia prisoner swap land in US - BBC.com US President Joe Biden welcomed them off the plane at Joint Base Andrews in Maryland.\"\n",
        "\n",
        "if article:\n",
        "    nltk_entities = nltk_ner(article)\n",
        "    print(\"NLTK Entities:\", nltk_entities)\n",
        "else:\n",
        "    print(\"No article to process.\")\n"
      ],
      "metadata": {
        "colab": {
          "base_uri": "https://localhost:8080/"
        },
        "id": "xgPhajvBPiO4",
        "outputId": "5481a8ba-7e7e-4f30-d42f-83c505598c49"
      },
      "execution_count": 5,
      "outputs": [
        {
          "output_type": "stream",
          "name": "stderr",
          "text": [
            "[nltk_data] Downloading package punkt to /root/nltk_data...\n",
            "[nltk_data]   Package punkt is already up-to-date!\n",
            "[nltk_data] Downloading package maxent_ne_chunker to\n",
            "[nltk_data]     /root/nltk_data...\n",
            "[nltk_data]   Package maxent_ne_chunker is already up-to-date!\n",
            "[nltk_data] Downloading package words to /root/nltk_data...\n",
            "[nltk_data]   Package words is already up-to-date!\n",
            "[nltk_data] Downloading package averaged_perceptron_tagger to\n",
            "[nltk_data]     /root/nltk_data...\n",
            "[nltk_data]   Unzipping taggers/averaged_perceptron_tagger.zip.\n"
          ]
        },
        {
          "output_type": "stream",
          "name": "stdout",
          "text": [
            "NLTK Entities: [('Americans', 'GPE'), ('Russia', 'GPE'), ('US', 'GPE'), ('Joe Biden', 'PERSON'), ('Joint Base Andrews', 'ORGANIZATION'), ('Maryland', 'GPE')]\n"
          ]
        }
      ]
    },
    {
      "cell_type": "code",
      "source": [
        "import spacy\n",
        "\n",
        "nlp = spacy.load('en_core_web_sm')\n",
        "\n",
        "def spacy_ner(text):\n",
        "    doc = nlp(text)\n",
        "    entities = [(ent.text, ent.label_) for ent in doc.ents]\n",
        "    return entities\n",
        "\n",
        "if article:\n",
        "    spacy_entities = spacy_ner(article)\n",
        "    print(\"SpaCy Entities:\", spacy_entities)\n",
        "else:\n",
        "    print(\"No article to process.\")\n"
      ],
      "metadata": {
        "colab": {
          "base_uri": "https://localhost:8080/"
        },
        "id": "7odQ8NHCRZdv",
        "outputId": "cfc0bec7-dbaf-4e32-f551-c9c01ad02c0d"
      },
      "execution_count": 6,
      "outputs": [
        {
          "output_type": "stream",
          "name": "stdout",
          "text": [
            "SpaCy Entities: [('Americans', 'NORP'), ('Russia', 'GPE'), ('US', 'GPE'), ('US', 'GPE'), ('Joe Biden', 'PERSON'), ('Joint Base Andrews', 'FAC'), ('Maryland', 'GPE')]\n"
          ]
        }
      ]
    },
    {
      "cell_type": "code",
      "source": [
        "def compare_entities(nltk_entities, spacy_entities):\n",
        "    nltk_set = set(nltk_entities)\n",
        "    spacy_set = set(spacy_entities)\n",
        "\n",
        "    common = nltk_set & spacy_set\n",
        "    only_nltk = nltk_set - spacy_set\n",
        "    only_spacy = spacy_set - nltk_set\n",
        "\n",
        "    return common, only_nltk, only_spacy\n",
        "\n",
        "if article:\n",
        "    common_entities, only_nltk_entities, only_spacy_entities = compare_entities(nltk_entities, spacy_entities)\n",
        "\n",
        "    print(\"Common Entities:\", common_entities)\n",
        "    print(\"Entities only in NLTK:\", only_nltk_entities)\n",
        "    print(\"Entities only in SpaCy:\", only_spacy_entities)\n",
        "else:\n",
        "    print(\"No entities to compare.\")\n"
      ],
      "metadata": {
        "colab": {
          "base_uri": "https://localhost:8080/"
        },
        "id": "3IMW-s5OSVTP",
        "outputId": "8094eb39-1047-4d29-bbb1-f9a2c4df38da"
      },
      "execution_count": 7,
      "outputs": [
        {
          "output_type": "stream",
          "name": "stdout",
          "text": [
            "Common Entities: {('Maryland', 'GPE'), ('US', 'GPE'), ('Joe Biden', 'PERSON'), ('Russia', 'GPE')}\n",
            "Entities only in NLTK: {('Americans', 'GPE'), ('Joint Base Andrews', 'ORGANIZATION')}\n",
            "Entities only in SpaCy: {('Americans', 'NORP'), ('Joint Base Andrews', 'FAC')}\n"
          ]
        }
      ]
    },
    {
      "cell_type": "code",
      "source": [],
      "metadata": {
        "id": "R50BI5dISrhE"
      },
      "execution_count": null,
      "outputs": []
    }
  ]
}